{
 "cells": [
  {
   "cell_type": "code",
   "execution_count": 260,
   "id": "6238e405",
   "metadata": {},
   "outputs": [],
   "source": [
    "from pdf2image import convert_from_path"
   ]
  },
  {
   "cell_type": "code",
   "execution_count": null,
   "id": "b6caf507",
   "metadata": {},
   "outputs": [],
   "source": []
  },
  {
   "cell_type": "code",
   "execution_count": 261,
   "id": "6d9b58fc",
   "metadata": {},
   "outputs": [],
   "source": [
    "pages=convert_from_path(r'docs\\patient_details\\pd_1.pdf',poppler_path=r\"C:\\poppler-23.01.0\\Library\\bin\")"
   ]
  },
  {
   "cell_type": "code",
   "execution_count": 262,
   "id": "5aaa5169",
   "metadata": {},
   "outputs": [
    {
     "data": {
      "text/plain": [
       "[<PIL.PpmImagePlugin.PpmImageFile image mode=RGB size=1867x2000 at 0x2293964B160>,\n",
       " <PIL.PpmImagePlugin.PpmImageFile image mode=RGB size=2000x1398 at 0x2293964BF40>]"
      ]
     },
     "execution_count": 262,
     "metadata": {},
     "output_type": "execute_result"
    }
   ],
   "source": [
    "pages"
   ]
  },
  {
   "cell_type": "code",
   "execution_count": 263,
   "id": "4ce2aacb",
   "metadata": {},
   "outputs": [],
   "source": [
    "pages[0].show()"
   ]
  },
  {
   "cell_type": "code",
   "execution_count": 264,
   "id": "272dbda9",
   "metadata": {},
   "outputs": [
    {
     "name": "stdout",
     "output_type": "stream",
     "text": [
      "47/12/2020\n",
      "\n",
      "Patient Medical Record\n",
      "\n",
      "Patient Information Birth Date\n",
      "Kathy Crawford May 6 1972\n",
      "(737) 988-0851 Weight\n",
      "9264 Ash Dr 95\n",
      "New York City, 10005 .\n",
      "United States Height:\n",
      "190\n",
      "In Case of Emergency\n",
      "m _ eee ee\n",
      "Simeone Crawford 9266 Ash Dr\n",
      "New York City, New York, 10005\n",
      "Home phone United States\n",
      "(990) 375-4621\n",
      "Work phone\n",
      "Genera! Medical History\n",
      "\n",
      "Chicken Pox (Varicella):\n",
      "\n",
      "IMMUNE IMMUNE\n",
      "Have you had the Hepatitis B vaccination?\n",
      "\n",
      "No\n",
      "List any Medical Problems (asthma, seizures, headaches):\n",
      "\n",
      "Migraine\n"
     ]
    }
   ],
   "source": [
    "import pytesseract\n",
    "\n",
    "pytesseract.pytesseract.tesseract_cmd=r\"C:\\Program Files\\Tesseract-OCR\\tesseract.exe\"\n",
    "\n",
    "text=pytesseract.image_to_string(pages[0],lang='eng')\n",
    "print(text)"
   ]
  },
  {
   "cell_type": "code",
   "execution_count": 265,
   "id": "5afe7371",
   "metadata": {},
   "outputs": [],
   "source": [
    "import cv2\n",
    "import numpy as np\n",
    "from PIL import Image\n",
    "\n"
   ]
  },
  {
   "cell_type": "code",
   "execution_count": 266,
   "id": "a7163ba2",
   "metadata": {},
   "outputs": [],
   "source": [
    "def processed_image(img):\n",
    "    gray=cv2.cvtColor(np.array(img),cv2.COLOR_BGR2GRAY)\n",
    "    resize=cv2.resize(gray,None,fx=1.5,fy=1.5,interpolation=cv2.INTER_LINEAR)\n",
    "    processed=cv2.adaptiveThreshold(resize,255,cv2.ADAPTIVE_THRESH_GAUSSIAN_C,cv2.THRESH_BINARY,55,15)\n",
    "    \n",
    "    return processed\n"
   ]
  },
  {
   "cell_type": "code",
   "execution_count": 267,
   "id": "29bd86e0",
   "metadata": {},
   "outputs": [],
   "source": [
    "final_img=processed_image(pages[0])\n",
    "Image.fromarray(final_img).show()"
   ]
  },
  {
   "cell_type": "code",
   "execution_count": 268,
   "id": "8f996591",
   "metadata": {},
   "outputs": [
    {
     "name": "stdout",
     "output_type": "stream",
     "text": [
      "17/12/2020\n",
      "\n",
      "Patient Medical Record\n",
      "\n",
      "Patient Information\n",
      "\n",
      "Birth Date\n",
      "Kathy Crawford May 6 1972\n",
      "(737) 988-0851 Weight\n",
      "9264 Ash Dr 95\n",
      "New York City, 10005 + tage\n",
      "United States Height:\n",
      "190\n",
      "In Casc of Emergency\n",
      "LL\n",
      "a\n",
      "Simeone Crawford 9266 Ash Dr\n",
      "New York City, New York, 10005\n",
      "Home phone United States\n",
      "990) 375-4621\n",
      "(990) Work phone\n",
      "Genera! Medical History\n",
      "nnn ae ne\n",
      "Chicken Pox (Varicella): Measies:\n",
      "IMMUNE IMMUNE\n",
      "\n",
      "Have you had the Hepatitis B vaccination?\n",
      "\n",
      "No\n",
      "\n",
      "List any Medical Problems (asthma, seizures, headaches):\n",
      "Migraine\n"
     ]
    }
   ],
   "source": [
    "text=pytesseract.image_to_string(final_img,lang='eng')\n",
    "print(text)"
   ]
  },
  {
   "cell_type": "code",
   "execution_count": 269,
   "id": "76226753",
   "metadata": {},
   "outputs": [],
   "source": [
    "import re"
   ]
  },
  {
   "cell_type": "code",
   "execution_count": 270,
   "id": "0ee1f392",
   "metadata": {},
   "outputs": [],
   "source": [
    "text='''\n",
    "17/12/2020\n",
    "\n",
    "Patient Medical Record\n",
    "\n",
    "Patient Information Birth Date\n",
    "\n",
    "Kathy Crawford May 6 1972\n",
    "\n",
    "(737) 988-0851 Weight’\n",
    "\n",
    "9264 Ash Dr 95\n",
    "\n",
    "New York City, 10005 '\n",
    "\n",
    "United States Height:\n",
    "190\n",
    "\n",
    "In Case of Emergency\n",
    "ee J\n",
    "Simeone Crawford 9266 Ash Dr\n",
    "New York City, New York, 10005\n",
    "Home phone United States\n",
    "(990) 375-4621\n",
    "Work phone\n",
    "Genera! Medical History\n",
    "nn ee\n",
    "Chicken Pox (Varicella): Measies:\n",
    "IMMUNE\n",
    "\n",
    "IMMUNE\n",
    "Have you had the Hepatitis B vaccination?\n",
    "\n",
    "No\n",
    "\n",
    "List any Medical Problems (asthma, seizures, headaches}:\n",
    "\n",
    "Migraine\n",
    "'''"
   ]
  },
  {
   "cell_type": "code",
   "execution_count": 271,
   "id": "a928d6d5",
   "metadata": {},
   "outputs": [],
   "source": [
    "text2='''\n",
    "17/12/2020\n",
    "\n",
    "Patient Medical Record\n",
    "\n",
    "Patient Information Birth Date\n",
    "\n",
    "Jerry Lucas May 2 1998\n",
    "\n",
    "(279) 920-8204 . Weight:\n",
    "\n",
    "4218 Wheeler Ridge Dr 57\n",
    "\n",
    "Buffalo, New York, 14201 Height:\n",
    "\n",
    "United States ght.\n",
    "170\n",
    "\n",
    "In Case of Emergency\n",
    "meee\n",
    "\n",
    "Joe Lucas 4218 Wheeler Ridge Dr\n",
    "Buffalo, New York, 14201\n",
    "Home phone . United States\n",
    "Work phone\n",
    "\n",
    "General Medical History\n",
    "\n",
    "Chicken Pox (Varicelia): Measles:\n",
    "\n",
    "IMMUNE NOT IMMUNE\n",
    "\n",
    "Have you had the Hepatitis B vaccination?\n",
    "\n",
    "_ Yes\n",
    "\n",
    "List any Medical Problems (asthma, seizures, headaches):\n",
    "N/A\n",
    "'''"
   ]
  },
  {
   "cell_type": "code",
   "execution_count": 295,
   "id": "3b954a76",
   "metadata": {},
   "outputs": [
    {
     "data": {
      "text/plain": [
       "'Birth Date\\n\\nKathy Crawford May 6 1972'"
      ]
     },
     "execution_count": 295,
     "metadata": {},
     "output_type": "execute_result"
    }
   ],
   "source": [
    "pattern='Patient Information[^A-Z]*(.*?)\\(\\d+\\)'\n",
    "\n",
    "matches=re.findall(pattern,text,flags=re.DOTALL)\n",
    "\n",
    "\n",
    "matches[0].strip()\n"
   ]
  },
  {
   "cell_type": "code",
   "execution_count": 297,
   "id": "bd2906d4",
   "metadata": {},
   "outputs": [
    {
     "data": {
      "text/plain": [
       "'Kathy Crawford May 6 1972'"
      ]
     },
     "execution_count": 297,
     "metadata": {},
     "output_type": "execute_result"
    }
   ],
   "source": [
    "match=matches[0].replace('Birth Date','').strip()\n",
    "match"
   ]
  },
  {
   "cell_type": "code",
   "execution_count": 304,
   "id": "3956dff8",
   "metadata": {},
   "outputs": [
    {
     "data": {
      "text/plain": [
       "'May 6 1972'"
      ]
     },
     "execution_count": 304,
     "metadata": {},
     "output_type": "execute_result"
    }
   ],
   "source": [
    "pattern='((Jan|Feb|March|April|May|June|July|Aug|Sep|Oct|Nov|Dec)[ \\d]+)'\n",
    "date_matches=re.findall(pattern,match)\n",
    "date=matches[0][0]\n",
    "date"
   ]
  },
  {
   "cell_type": "code",
   "execution_count": 308,
   "id": "7daafb72",
   "metadata": {},
   "outputs": [
    {
     "data": {
      "text/plain": [
       "'Kathy Crawford'"
      ]
     },
     "execution_count": 308,
     "metadata": {},
     "output_type": "execute_result"
    }
   ],
   "source": [
    "match.replace(date,'').strip()"
   ]
  },
  {
   "cell_type": "code",
   "execution_count": null,
   "id": "61adde39",
   "metadata": {},
   "outputs": [],
   "source": []
  },
  {
   "cell_type": "code",
   "execution_count": 312,
   "id": "4a61dcdc",
   "metadata": {},
   "outputs": [],
   "source": [
    "def remove_noise_from_name(name):\n",
    "    name=name[0].replace('Birth Date','').strip()\n",
    "    pattern='((Jan|Feb|March|April|May|June|July|Aug|Sep|Oct|Nov|Dec)[ \\d]+)'\n",
    "    date_matches=re.findall(pattern,name)\n",
    "    \n",
    "    if date_matches:\n",
    "        date=matches[0][0]\n",
    "        name=name.replace(date,'').strip()\n",
    "        \n",
    "    return name\n",
    "        \n",
    "        \n",
    "    \n",
    "    \n",
    "    \n",
    "    "
   ]
  },
  {
   "cell_type": "code",
   "execution_count": 313,
   "id": "5b5da9cd",
   "metadata": {},
   "outputs": [
    {
     "data": {
      "text/plain": [
       "'B'"
      ]
     },
     "execution_count": 313,
     "metadata": {},
     "output_type": "execute_result"
    }
   ],
   "source": [
    "name='Birth Date\\n\\nKathy Crawford May 6 1972'\n",
    "name=remove_noise_from_name(name)\n",
    "name\n"
   ]
  },
  {
   "cell_type": "code",
   "execution_count": null,
   "id": "145a034f",
   "metadata": {},
   "outputs": [],
   "source": []
  },
  {
   "cell_type": "code",
   "execution_count": null,
   "id": "6b8a79ac",
   "metadata": {},
   "outputs": [],
   "source": []
  },
  {
   "cell_type": "code",
   "execution_count": null,
   "id": "ca54227e",
   "metadata": {},
   "outputs": [],
   "source": []
  },
  {
   "cell_type": "markdown",
   "id": "0b44c868",
   "metadata": {},
   "source": [
    "# number"
   ]
  },
  {
   "cell_type": "code",
   "execution_count": 114,
   "id": "bff3ce05",
   "metadata": {},
   "outputs": [
    {
     "data": {
      "text/plain": [
       "'(737) 988-0851'"
      ]
     },
     "execution_count": 114,
     "metadata": {},
     "output_type": "execute_result"
    }
   ],
   "source": [
    "pattern3='Patient Information(.*?)(\\(\\d{3}\\) \\d{3}-\\d{4})'\n",
    "match3=re.findall(pattern3,text,flags=re.DOTALL)\n",
    "number=match3[0][1].strip()\n",
    "number"
   ]
  },
  {
   "cell_type": "markdown",
   "id": "abebc64d",
   "metadata": {},
   "source": [
    "# vacination"
   ]
  },
  {
   "cell_type": "code",
   "execution_count": 197,
   "id": "64b42f87",
   "metadata": {},
   "outputs": [
    {
     "data": {
      "text/plain": [
       "'No'"
      ]
     },
     "execution_count": 197,
     "metadata": {},
     "output_type": "execute_result"
    }
   ],
   "source": [
    "pattern4='vaccination\\?(.*)(Yes|No)'\n",
    "match4=re.findall(pattern4,text,flags=re.DOTALL)\n",
    "vaccination=match4[0][1].strip()\n",
    "vaccination"
   ]
  },
  {
   "cell_type": "code",
   "execution_count": null,
   "id": "1dd2d68c",
   "metadata": {},
   "outputs": [],
   "source": []
  },
  {
   "cell_type": "markdown",
   "id": "d3c275bf",
   "metadata": {},
   "source": [
    "# medical problems"
   ]
  },
  {
   "cell_type": "code",
   "execution_count": 200,
   "id": "44c2913f",
   "metadata": {},
   "outputs": [
    {
     "data": {
      "text/plain": [
       "'N/A'"
      ]
     },
     "execution_count": 200,
     "metadata": {},
     "output_type": "execute_result"
    }
   ],
   "source": [
    "pattern5='headaches\\):(.*)'\n",
    "match5=re.findall(pattern5,text2,flags=re.DOTALL)\n",
    "medical_problems=match5[0].strip()\n",
    "medical_problems"
   ]
  },
  {
   "cell_type": "code",
   "execution_count": null,
   "id": "600e97ae",
   "metadata": {},
   "outputs": [],
   "source": []
  },
  {
   "cell_type": "code",
   "execution_count": null,
   "id": "2b5b1565",
   "metadata": {},
   "outputs": [],
   "source": []
  },
  {
   "cell_type": "code",
   "execution_count": null,
   "id": "93235f92",
   "metadata": {},
   "outputs": [],
   "source": []
  },
  {
   "cell_type": "code",
   "execution_count": null,
   "id": "d957c983",
   "metadata": {},
   "outputs": [],
   "source": []
  }
 ],
 "metadata": {
  "kernelspec": {
   "display_name": "Python 3 (ipykernel)",
   "language": "python",
   "name": "python3"
  },
  "language_info": {
   "codemirror_mode": {
    "name": "ipython",
    "version": 3
   },
   "file_extension": ".py",
   "mimetype": "text/x-python",
   "name": "python",
   "nbconvert_exporter": "python",
   "pygments_lexer": "ipython3",
   "version": "3.8.10"
  }
 },
 "nbformat": 4,
 "nbformat_minor": 5
}
