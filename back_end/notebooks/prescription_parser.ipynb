{
 "cells": [
  {
   "cell_type": "code",
   "execution_count": 1,
   "id": "1652b5ec",
   "metadata": {},
   "outputs": [],
   "source": [
    "from pdf2image import convert_from_path"
   ]
  },
  {
   "cell_type": "code",
   "execution_count": 45,
   "id": "85d8e898",
   "metadata": {},
   "outputs": [],
   "source": [
    "pages=convert_from_path(r'docs\\prescription\\pre_2.pdf', poppler_path=r\"C:\\poppler-23.01.0\\Library\\bin\")"
   ]
  },
  {
   "cell_type": "code",
   "execution_count": 46,
   "id": "b0da5462",
   "metadata": {},
   "outputs": [
    {
     "data": {
      "text/plain": [
       "[<PIL.PpmImagePlugin.PpmImageFile image mode=RGB size=1700x2200 at 0x1B226FBEB50>]"
      ]
     },
     "execution_count": 46,
     "metadata": {},
     "output_type": "execute_result"
    }
   ],
   "source": [
    "pages"
   ]
  },
  {
   "cell_type": "code",
   "execution_count": 47,
   "id": "71590e2d",
   "metadata": {},
   "outputs": [],
   "source": [
    "pages[0].show()"
   ]
  },
  {
   "cell_type": "code",
   "execution_count": 48,
   "id": "4dad3ca0",
   "metadata": {},
   "outputs": [],
   "source": [
    "import pytesseract"
   ]
  },
  {
   "cell_type": "code",
   "execution_count": 49,
   "id": "02259c3e",
   "metadata": {},
   "outputs": [
    {
     "name": "stdout",
     "output_type": "stream",
     "text": [
      "Refill: 3 times\n"
     ]
    }
   ],
   "source": [
    "#since the image is not very clear and we are not getting our required text completely we have to change our image to \n",
    "#different form so that our pytesseract can convert our text completly as required\n",
    "\n",
    "pytesseract.pytesseract.tesseract_cmd=r\"C:\\Program Files\\Tesseract-OCR\\tesseract.exe\"\n",
    "text=pytesseract.image_to_string(pages[0], lang=\"eng\")\n",
    "print(text)"
   ]
  },
  {
   "cell_type": "code",
   "execution_count": 50,
   "id": "abda52af",
   "metadata": {},
   "outputs": [],
   "source": [
    "import numpy as np\n",
    "import cv2\n",
    "from PIL import Image\n",
    "\n",
    "def processed_img(img):\n",
    "    gray=cv2.cvtColor(np.array(img),cv2.COLOR_BGR2GRAY)\n",
    "    resized=cv2.resize(gray,None,fx=1.5,fy=1.5,interpolation=cv2.INTER_LINEAR)\n",
    "    processed = cv2.adaptiveThreshold(resized,255,cv2.ADAPTIVE_THRESH_GAUSSIAN_C,cv2.THRESH_BINARY,61,11)\n",
    "    \n",
    "    return processed\n",
    "    "
   ]
  },
  {
   "cell_type": "code",
   "execution_count": 51,
   "id": "c70274d6",
   "metadata": {},
   "outputs": [],
   "source": [
    "final_img=processed_img(pages[0])\n",
    "Image.fromarray(final_img).show()"
   ]
  },
  {
   "cell_type": "code",
   "execution_count": 52,
   "id": "91643014",
   "metadata": {},
   "outputs": [
    {
     "name": "stdout",
     "output_type": "stream",
     "text": [
      "Dr John >mith, M.D\n",
      "\n",
      "2 Non-Important street,\n",
      "New York, Phone (900)-323- ~2222\n",
      "\n",
      "Name:  Virat Kohli Date: 2/05/2022\n",
      "\n",
      "Address: 2 cricket blvd, New Delhi\n",
      "\n",
      "| Omeprazole 40 mg\n",
      "\n",
      "Directions: Use two tablets daily for three months\n",
      "\n",
      "Refill: 3 times\n"
     ]
    }
   ],
   "source": [
    "pytesseract.pytesseract.tesseract_cmd=\"C:\\\\Program Files\\\\Tesseract-OCR\\\\tesseract.exe\"\n",
    "\n",
    "text=pytesseract.image_to_string(final_img, lang=\"eng\")\n",
    "print(text)"
   ]
  },
  {
   "cell_type": "code",
   "execution_count": 1,
   "id": "5b413b21",
   "metadata": {},
   "outputs": [],
   "source": [
    "import re\n",
    "\n",
    "text='''Dr John >mith, M.D\n",
    "\n",
    "2 Non-Important street,\n",
    "New York, Phone (900)-323- ~2222\n",
    "\n",
    "Name:  Virat Kohli Date: 2/05/2022\n",
    "\n",
    "Address: 2 cricket blvd, New Delhi\n",
    "\n",
    "| Omeprazole 40 mg\n",
    "\n",
    "Directions: Use two tablets daily for three months\n",
    "\n",
    "Refill: 3 times'''"
   ]
  },
  {
   "cell_type": "code",
   "execution_count": 2,
   "id": "9a405044",
   "metadata": {},
   "outputs": [
    {
     "data": {
      "text/plain": [
       "'Virat Kohli'"
      ]
     },
     "execution_count": 2,
     "metadata": {},
     "output_type": "execute_result"
    }
   ],
   "source": [
    "pattern=\"Name:(.*)Date\"\n",
    "\n",
    "match=re.findall(pattern,text) #will return the list of matches\n",
    "match[0].strip() \n",
    "\n",
    "#\"strip() function removes any leading and trailing white spaces\""
   ]
  },
  {
   "cell_type": "code",
   "execution_count": 3,
   "id": "cc101662",
   "metadata": {},
   "outputs": [
    {
     "data": {
      "text/plain": [
       "'2 cricket blvd, New Delhi'"
      ]
     },
     "execution_count": 3,
     "metadata": {},
     "output_type": "execute_result"
    }
   ],
   "source": [
    "pattern=\"Address:(.*)\\n\"\n",
    "match=re.findall(pattern,text)\n",
    "match[0].strip()"
   ]
  },
  {
   "cell_type": "code",
   "execution_count": 13,
   "id": "5ff9f06d",
   "metadata": {},
   "outputs": [
    {
     "name": "stdout",
     "output_type": "stream",
     "text": [
      "| Omeprazole 40 mg\n"
     ]
    }
   ],
   "source": [
    "pattern=\"Address:[^\\n]*(.*)Directions\"\n",
    "match=re.findall(pattern,text,flags=re.DOTALL) \n",
    "print(match[0].strip())\n",
    "\n",
    "#DOTALL flag means dot(.) include \\n\n",
    "#If we haven't mentioned DOTALL flag the . would haven't considered \"Lialda 2.4 gram\"\n",
    "# In regex \\n is not considered in . so, if we want . to consider \\n we have to use flags\n",
    "# named DOTALL"
   ]
  },
  {
   "cell_type": "code",
   "execution_count": 12,
   "id": "9e3b7d62",
   "metadata": {},
   "outputs": [],
   "source": [
    "# print(match[0].strip())"
   ]
  },
  {
   "cell_type": "code",
   "execution_count": 6,
   "id": "10678404",
   "metadata": {},
   "outputs": [
    {
     "data": {
      "text/plain": [
       "'Use two tablets daily for three months'"
      ]
     },
     "execution_count": 6,
     "metadata": {},
     "output_type": "execute_result"
    }
   ],
   "source": [
    "pattern=\"Directions:\\s+(.*)\\s+Refill\"\n",
    "match=re.findall(pattern,text,flags=re.DOTALL)\n",
    "match[0].strip()"
   ]
  },
  {
   "cell_type": "code",
   "execution_count": 7,
   "id": "624430de",
   "metadata": {},
   "outputs": [
    {
     "name": "stdout",
     "output_type": "stream",
     "text": [
      "Use two tablets daily for three months\n"
     ]
    }
   ],
   "source": [
    "print(match[0].strip())"
   ]
  },
  {
   "cell_type": "code",
   "execution_count": 14,
   "id": "fe752077",
   "metadata": {},
   "outputs": [
    {
     "data": {
      "text/plain": [
       "'3'"
      ]
     },
     "execution_count": 14,
     "metadata": {},
     "output_type": "execute_result"
    }
   ],
   "source": [
    "pattern=\"Refill:\\s(\\d+)\\stimes\"\n",
    "match=re.findall(pattern,text)\n",
    "match[0].strip()"
   ]
  },
  {
   "cell_type": "code",
   "execution_count": null,
   "id": "84888b1b",
   "metadata": {},
   "outputs": [],
   "source": []
  }
 ],
 "metadata": {
  "kernelspec": {
   "display_name": "Python 3 (ipykernel)",
   "language": "python",
   "name": "python3"
  },
  "language_info": {
   "codemirror_mode": {
    "name": "ipython",
    "version": 3
   },
   "file_extension": ".py",
   "mimetype": "text/x-python",
   "name": "python",
   "nbconvert_exporter": "python",
   "pygments_lexer": "ipython3",
   "version": "3.8.10"
  }
 },
 "nbformat": 4,
 "nbformat_minor": 5
}
