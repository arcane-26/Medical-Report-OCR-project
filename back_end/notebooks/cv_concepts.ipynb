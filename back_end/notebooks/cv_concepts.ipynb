{
 "cells": [
  {
   "cell_type": "code",
   "execution_count": 17,
   "id": "b76341d1",
   "metadata": {},
   "outputs": [],
   "source": [
    "import cv2\n",
    "from PIL import Image\n",
    "\n",
    "# PIL is image processing module in python and \n",
    "# Image is one of the class of this module\n",
    "# we need some of the methods of this image class"
   ]
  },
  {
   "cell_type": "code",
   "execution_count": 43,
   "id": "252c1453",
   "metadata": {},
   "outputs": [
    {
     "data": {
      "text/plain": [
       "array([[206, 206, 206, ..., 187, 186, 184],\n",
       "       [206, 206, 206, ..., 186, 185, 185],\n",
       "       [206, 206, 206, ..., 186, 185, 185],\n",
       "       ...,\n",
       "       [162, 157, 152, ..., 184, 184, 184],\n",
       "       [160, 156, 152, ..., 184, 184, 184],\n",
       "       [156, 158, 158, ..., 184, 184, 184]], dtype=uint8)"
      ]
     },
     "execution_count": 43,
     "metadata": {},
     "output_type": "execute_result"
    }
   ],
   "source": [
    "# to read an image in opencv we use a method called \"cv2.imread()\", inside paranthesis we will\n",
    "# supply path or name of image\n",
    "\n",
    "img=cv2.imread(\"dark_image.jpg\",flags=cv2.IMREAD_GRAYSCALE)\n",
    "img\n",
    "\n",
    "\n",
    "# we got the array of numbers which are intensities of every pixel of the image. these intesity\n",
    "# value lies between 0 to 255, where 0 - dark and 1-bright"
   ]
  },
  {
   "cell_type": "code",
   "execution_count": 44,
   "id": "b18d955d",
   "metadata": {},
   "outputs": [],
   "source": [
    "Image.fromarray(img).show()"
   ]
  },
  {
   "cell_type": "code",
   "execution_count": 45,
   "id": "0a54bd99",
   "metadata": {},
   "outputs": [],
   "source": [
    "# In opencv we have two types of Thresholding \n",
    "# 1.simple Thresholing\n",
    "# 2.adaptive Thresholding\n",
    "\n",
    "# sytnax of simple threshold\n",
    "\n",
    "# we will use a method of cv2 called \n",
    "# cv2.threshold(<image_name>,<threshold_value>,<max_value>,<thereshold_variant>)\n",
    "\n",
    "# there are various types of threshold variants go and watch\n",
    "# https://www.youtube.com/watch?v=l1dhyw-EjSw  from 6.42\n",
    "\n"
   ]
  },
  {
   "cell_type": "code",
   "execution_count": 46,
   "id": "f07a7f4c",
   "metadata": {},
   "outputs": [
    {
     "data": {
      "text/plain": [
       "array([[255, 255, 255, ..., 255, 255, 255],\n",
       "       [255, 255, 255, ..., 255, 255, 255],\n",
       "       [255, 255, 255, ..., 255, 255, 255],\n",
       "       ...,\n",
       "       [255, 255, 255, ..., 255, 255, 255],\n",
       "       [255, 255, 255, ..., 255, 255, 255],\n",
       "       [255, 255, 255, ..., 255, 255, 255]], dtype=uint8)"
      ]
     },
     "execution_count": 46,
     "metadata": {},
     "output_type": "execute_result"
    }
   ],
   "source": [
    "_,threshold = cv2.threshold(img,150,255,cv2.THRESH_BINARY)\n",
    "threshold\n",
    "\n",
    "# the first value is the threshold value and 2nd value is the image after simple thresholding \n",
    "# in array format\n",
    "\n",
    "# ( _,threshold )  -> we did this bcoz we want to neglect first element i.e.150, thatswhy \n",
    "# we did ( _, ) and created a variable name (threshold) and  store 2nd element which\n",
    "# is array of image after thresholding inside this variable\n",
    "\n",
    "\n",
    "# we took <threshold_value> by hit and trial so we can take any we inorder to make image clear"
   ]
  },
  {
   "cell_type": "code",
   "execution_count": 47,
   "id": "6598130a",
   "metadata": {},
   "outputs": [],
   "source": [
    "Image.fromarray(threshold).show()"
   ]
  },
  {
   "cell_type": "code",
   "execution_count": null,
   "id": "0071b790",
   "metadata": {},
   "outputs": [],
   "source": []
  },
  {
   "cell_type": "code",
   "execution_count": null,
   "id": "b4bcf58c",
   "metadata": {},
   "outputs": [],
   "source": [
    "# syntax of adaptive thresholidng\n",
    "\n",
    "# cv2.adaptiveThreshold(<image_name>,<max_value>,<adaptive_method_used>,<threshold_variant>,\n",
    "#                      <block_size>,<constant>)\n",
    "\n",
    "# block_size should be odd integer and can be anything decided by hit and trial\n",
    "# constant is also be anything decided by hit and trial\n",
    " "
   ]
  },
  {
   "cell_type": "code",
   "execution_count": null,
   "id": "5d9bae93",
   "metadata": {},
   "outputs": [],
   "source": []
  },
  {
   "cell_type": "code",
   "execution_count": 61,
   "id": "86da107e",
   "metadata": {},
   "outputs": [],
   "source": [
    "adaptive_thres_img=cv2.adaptiveThreshold(\n",
    "    img,\n",
    "    255,\n",
    "    cv2.ADAPTIVE_THRESH_GAUSSIAN_C,\n",
    "    cv2.THRESH_BINARY,\n",
    "    61,\n",
    "    11 )"
   ]
  },
  {
   "cell_type": "code",
   "execution_count": 62,
   "id": "cc989a7f",
   "metadata": {},
   "outputs": [],
   "source": [
    "Image.fromarray(adaptive_thres_img).show()"
   ]
  },
  {
   "cell_type": "code",
   "execution_count": null,
   "id": "26ecc0dd",
   "metadata": {},
   "outputs": [],
   "source": []
  }
 ],
 "metadata": {
  "kernelspec": {
   "display_name": "Python 3 (ipykernel)",
   "language": "python",
   "name": "python3"
  },
  "language_info": {
   "codemirror_mode": {
    "name": "ipython",
    "version": 3
   },
   "file_extension": ".py",
   "mimetype": "text/x-python",
   "name": "python",
   "nbconvert_exporter": "python",
   "pygments_lexer": "ipython3",
   "version": "3.8.10"
  }
 },
 "nbformat": 4,
 "nbformat_minor": 5
}
